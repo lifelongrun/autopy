{
 "cells": [
  {
   "cell_type": "markdown",
   "metadata": {},
   "source": [
    "# Import sth"
   ]
  },
  {
   "cell_type": "code",
   "execution_count": 1,
   "metadata": {},
   "outputs": [],
   "source": [
    "import math\n",
    "import matplotlib.pyplot as plt"
   ]
  },
  {
   "cell_type": "markdown",
   "metadata": {},
   "source": [
    "# Boundary condition"
   ]
  },
  {
   "cell_type": "markdown",
   "metadata": {},
   "source": [
    "## Air inlet velocity for "
   ]
  },
  {
   "cell_type": "code",
   "execution_count": 2,
   "metadata": {
    "scrolled": true
   },
   "outputs": [
    {
     "name": "stdout",
     "output_type": "stream",
     "text": [
      "the inlet velocity of air is :0.2201691639611824 m/s\n"
     ]
    }
   ],
   "source": [
    "# to compute the inlet velocity of air\n",
    "diammeter_fuel_inner = 4*1e-3\n",
    "diammeter_fuel_outer = 24*1e-3\n",
    "diammeter_air_inner = 70*1e-3\n",
    "airflow_section_area = 3.14*(diammeter_air_inner**2 - diammeter_fuel_outer**2)/4\n",
    "\n",
    "airflow_volume_speed = 0.000747329\n",
    " #0.00597863\n",
    "\n",
    "airflow_velocity_speed = airflow_volume_speed/airflow_section_area\n",
    "print(f'the inlet velocity of air is :{airflow_velocity_speed} m/s')"
   ]
  },
  {
   "cell_type": "markdown",
   "metadata": {},
   "source": [
    "## Fuel inlet velocity for fluent input"
   ]
  },
  {
   "cell_type": "code",
   "execution_count": 136,
   "metadata": {
    "scrolled": false
   },
   "outputs": [
    {
     "name": "stdout",
     "output_type": "stream",
     "text": [
      "the velocity of fuel is :20.0 m/s\n"
     ]
    }
   ],
   "source": [
    "# to compute the fuel inlet velocity of air\n",
    "\n",
    "fuelflow_section_area = 3.14*diammeter_fuel_inner**2 /4\n",
    "\n",
    "fuelflow_volume_speed = 0.0002512\n",
    "\n",
    "fuelflow_velocity_speed = fuelflow_volume_speed/fuelflow_section_area\n",
    "print(f'the velocity of fuel is :{fuelflow_velocity_speed} m/s')"
   ]
  },
  {
   "cell_type": "markdown",
   "metadata": {},
   "source": [
    "# Swril number (Sn)"
   ]
  },
  {
   "cell_type": "markdown",
   "metadata": {},
   "source": [
    "|Swirl type| Diameter (mm) | Vane angel(°) |Vane number|Swirl number|\n",
    "|---|-----|-------|-----------|-----------|\n",
    "| Type 1 | Inner: 13, outer 34.4|45 | 12 | 0.736 |\n",
    "| Type 2 | -|60 | 12 | 1.27 |"
   ]
  },
  {
   "cell_type": "code",
   "execution_count": 139,
   "metadata": {},
   "outputs": [
    {
     "name": "stdout",
     "output_type": "stream",
     "text": [
      "彼时\n",
      "旋流器内、外直径大小为：13、34.4 （mm）；\n",
      "角度及弧度大小为：60 (°)、1.0471975511965976 (rad)\n",
      "旋流数为(Sn): 1.274\n"
     ]
    }
   ],
   "source": [
    "# refer paper: {Hayakawa, 2017 #1003} Formula (1), Table 1 - Swirler specifications\n",
    "\n",
    "# input the diameter and angle of the swirl vane\n",
    "vane_angle = 60 #in angle\n",
    "#angle_in_radian = vane_angle/360*(2*math.pi) # angle in radian\n",
    "vane_angle_in_radian = math.radians(vane_angle) # angle in radian\n",
    "number_of_vane = 6 # 叶片数（并不参与计算）\n",
    "diameter_of_inner = 13 # d_h, the hub diameter in mm\n",
    "diameter_of_outer = 34.4 # d_t, the swirl tip diameter in mm\n",
    "d_ratio = diameter_of_inner/diameter_of_outer\n",
    "\n",
    "# formula\n",
    "swirl_number = (2/3)*((1-d_ratio**3)/(1-d_ratio**2))*math.tan(vane_angle_in_radian)\n",
    "swirl_number_round = round(swirl_number,3) # Round a number to only three decimals\n",
    "\n",
    "# output\n",
    "print(f\"彼时\\n旋流器内、外直径大小为：{diameter_of_inner}、{diameter_of_outer} （mm）；\\n角度及弧度大小为：{vane_angle} (°)、{vane_angle_in_radian} (rad)\\n旋流数为(Sn): {swirl_number_round}\")"
   ]
  },
  {
   "cell_type": "code",
   "execution_count": 135,
   "metadata": {},
   "outputs": [
    {
     "name": "stdout",
     "output_type": "stream",
     "text": [
      "0.785\n",
      "0.7853981633974483\n"
     ]
    }
   ],
   "source": [
    "# 角度转换弧度\n",
    "a = 45 # 角度\n",
    "in_radians = 45/360*2*3.14\n",
    "print(in_radians)\n",
    "print(math.radians(45))"
   ]
  },
  {
   "cell_type": "markdown",
   "metadata": {},
   "source": [
    "甲烷掺氢旋流钝体之——旋流结构参数\n",
    "|Swirl type| Diameter (mm) | Vane angel(°) |Vane number|Swirl number|\n",
    "|---|-----|-------|-----------|-----------|\n",
    "| Swirl 1 | inner: 25, outer: 70 |30 | 6 | xxx |\n",
    "| Swirl 2 | - | 45 | 6 | xxx |\n",
    "| Swirl 3 | - | 60 | 6 | xxx |"
   ]
  },
  {
   "cell_type": "code",
   "execution_count": 147,
   "metadata": {},
   "outputs": [
    {
     "name": "stdout",
     "output_type": "stream",
     "text": [
      "彼时\n",
      "旋流器内、外直径大小为：25、70 （mm）；\n",
      "角度及弧度大小为：75 (°)、1.3089969389957472 (rad)\n",
      "计算旋流数大小为(Sn): 2.722\n"
     ]
    }
   ],
   "source": [
    "# 暂定: 旋流器结构高度为20mm\n",
    "\n",
    "# input the diameter and angle of the swirl vane\n",
    "vane_angle = 75 #in angle\n",
    "#angle_in_radian = vane_angle/360*(2*math.pi) # angle in radian\n",
    "vane_angle_in_radian = math.radians(vane_angle) # angle in radian\n",
    "number_of_vane = 6 # 叶片数（并不参与计算）\n",
    "diameter_of_inner = 25 # d_h, the hub diameter in mm\n",
    "diameter_of_outer = 70 # d_t, the swirl tip diameter in mm\n",
    "d_ratio = diameter_of_inner/diameter_of_outer\n",
    "\n",
    "# formula\n",
    "swirl_number = (2/3)*((1-d_ratio**3)/(1-d_ratio**2))*math.tan(vane_angle_in_radian)\n",
    "swirl_number_round = round(swirl_number,3) # Round a number to only three decimals\n",
    "\n",
    "# output\n",
    "print(f\"彼时\\n旋流器内、外直径大小为：{diameter_of_inner}、{diameter_of_outer} （mm）；\\n角度及弧度大小为：{vane_angle} (°)、{vane_angle_in_radian} (rad)\\n计算旋流数大小为(Sn): {swirl_number_round}\")"
   ]
  },
  {
   "cell_type": "markdown",
   "metadata": {},
   "source": [
    "|Swirl type| Diameter (mm) | Vane angel(°) |Vane number|Swirl number|\n",
    "|---|-----|-------|-----------|-----------|\n",
    "| Swirl 1 | inner: 25, outer: 70 |30 | 6 | 0.421 |\n",
    "| Swirl 2 | - | 45 | 6 | 0.729 |\n",
    "| Swirl 3 | - | 60 | 6 | 1.263 |\n",
    "| Swirl 4 | - | 75 | 6 | 2.722 |"
   ]
  },
  {
   "cell_type": "markdown",
   "metadata": {},
   "source": [
    "甲烷掺氢旋流钝体之——钝体结构参数（待完善-2023.04.19）\n",
    "| Bluff body(BB) type | Height (mm) | BB angel(°) | Vane number | Swirl number |\n",
    "|---|-----|-------|-----------|-----------|\n",
    "| BB 1 | inner: 25, outer: 70 |30 | 6 | xxx |\n",
    "| BB 2 | - | 45 | 6 | xxx |\n",
    "| BB 3 | - | 60 | 6 | xxx |"
   ]
  },
  {
   "cell_type": "markdown",
   "metadata": {},
   "source": [
    "## Re计算\n"
   ]
  }
 ],
 "metadata": {
  "celltoolbar": "原始单元格格式",
  "kernelspec": {
   "display_name": "Python 3 (ipykernel)",
   "language": "python",
   "name": "python3"
  },
  "language_info": {
   "codemirror_mode": {
    "name": "ipython",
    "version": 3
   },
   "file_extension": ".py",
   "mimetype": "text/x-python",
   "name": "python",
   "nbconvert_exporter": "python",
   "pygments_lexer": "ipython3",
   "version": "3.11.1"
  }
 },
 "nbformat": 4,
 "nbformat_minor": 1
}
