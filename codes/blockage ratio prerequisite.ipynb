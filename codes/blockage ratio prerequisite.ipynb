{
 "cells": [
  {
   "cell_type": "markdown",
   "metadata": {
    "collapsed": true,
    "pycharm": {
     "is_executing": true
    }
   },
   "source": [
    "# Blockage ratio/ Equivalence ratio/ Angle for LBO limit"
   ]
  },
  {
   "cell_type": "markdown",
   "metadata": {},
   "source": [
    "## verification for gri-mech 211"
   ]
  },
  {
   "cell_type": "markdown",
   "metadata": {},
   "source": [
    "### 调试（cfd燃烧温度偏高）\n",
    "- (refer to paper) external emissivtity = 0.7 -> 0.8 (the larger value means that more easy for heat transfering)\n",
    "- 将interl emissivity = 0.8 -》1 (并不关注这个)\n",
    "- (refer to paper) 修改固体(steeless)导热率（refer to paper）\n",
    "- (refer to paper -{Jiang, 2013 #849}) 空气对流系数10 w/(m2·K), emissivity = 0.7-0.8\n",
    "- 将空气对流系数改为20 w/(m2·K)，emissivity = 0.85;"
   ]
  },
  {
   "cell_type": "code",
   "execution_count": 12,
   "metadata": {},
   "outputs": [
    {
     "data": {
      "text/plain": [
       "0.16"
      ]
     },
     "execution_count": 12,
     "metadata": {},
     "output_type": "execute_result"
    }
   ],
   "source": [
    "t_exp = 1250\n",
    "t_cfd = 1450\n",
    "relative_error = (t_cfd-t_exp)/t_exp \n",
    "relative_error\n",
    "#最大误差14.72%"
   ]
  },
  {
   "cell_type": "markdown",
   "metadata": {},
   "source": [
    "### 重要算例文件保存\n",
    "\n",
    "-  二维轴对称，不开辐射模型，计算稳态，计算结果良好：\"E:/John_Mike/blockage_ratio/blockage_files/dp0/FLU-1/Fluent/SYS-1-Setup-steady-ok.dat.gz\"\n",
    "- 待算：将70ms那个算例patch一个流体域的全局高温，计算瞬态"
   ]
  },
  {
   "cell_type": "markdown",
   "metadata": {},
   "source": [
    "## Blockage ratio compute"
   ]
  },
  {
   "cell_type": "code",
   "execution_count": 13,
   "metadata": {},
   "outputs": [
    {
     "data": {
      "text/plain": [
       "0.16"
      ]
     },
     "execution_count": 13,
     "metadata": {},
     "output_type": "execute_result"
    }
   ],
   "source": [
    "180/1250\n",
    "\n",
    "100/1350\n",
    "\n",
    "200/1250"
   ]
  },
  {
   "cell_type": "markdown",
   "metadata": {},
   "source": [
    "## 工况计算"
   ]
  },
  {
   "cell_type": "code",
   "execution_count": null,
   "metadata": {},
   "outputs": [
    {
     "name": "stdout",
     "output_type": "stream",
     "text": [
      "\n",
      "针对长方体式的非预混微型燃烧器\n",
      "              =======================================\n",
      "   air-inlet->|___->                                |\n",
      "               ___|                                 |\n",
      "  fuel-inlet->|___->    2-D Micro Combustor         |\n",
      "               ___|                                 |\n",
      "   air-inlet->|   ->                                |\n",
      "              =======================================\n",
      "\n",
      "-----定当量比,变掺氢比,求空气流速-----\n",
      "-----定当量比,变掺氢比,求空气流速-----\n",
      "[in]请输入接下来要计算多少组数据(多少个不同工况下对应的空气流速):1\n",
      "[in]请输入燃料入口流速(m/s):20\n",
      "[in]请输入定当量比的值:0.6\n",
      "[in]请输入此次变掺氢比的值(以小数表示):0\n",
      "[output]第1组,已知:定当量比=0.6, 变掺氢比=0.0; 此时计算的空气流速大小为:25.903746m/s\n",
      "[over]定当量比=0.6，空气流速计算结束\n"
     ]
    }
   ],
   "source": [
    "print('''\n",
    "针对长方体式的非预混微型燃烧器\n",
    "              =======================================\n",
    "   air-inlet->|___->                                |\n",
    "               ___|                                 |\n",
    "  fuel-inlet->|___->    2-D Micro Combustor         |\n",
    "               ___|                                 |\n",
    "   air-inlet->|   ->                                |\n",
    "              =======================================\n",
    "''')\n",
    "\n",
    "# unit m2 流通截面积 (根据几何模型参数计算【单位：mm】, 注意结果单位需由mm2转换为m2)\n",
    "\n",
    "cross_area_air = 2 * 1 * 1.75 / 10**(-6) # 2 为左右两个空气入口， 1 为高度，1.75为宽度\n",
    "cross_area_fuel = 1 * 0.3 / 10**(-6) # 0.3 为中心燃料入口宽度\n",
    "\n",
    "# unit kg/m3 密度 (通用)\n",
    "density_ch4 = 0.65\n",
    "density_air = 1.23\n",
    "density_h2 = 0.09\n",
    "\n",
    "# 对于CH4-H2混合燃料而言，求特定当量比和掺氢比下的空气流速，包括定当量比，变掺氢比与定掺氢比，变当量比两种选择\n",
    "\n",
    "print(\"-----定当量比,变掺氢比,求空气流速-----\")\n",
    "print(\"-----定当量比,变掺氢比,求空气流速-----\")\n",
    "computation_numbers = int(input(\"[in]请输入接下来要计算多少组数据(多少个不同工况下对应的空气流速):\"))\n",
    "velocity_fuel = float(input(\"[in]请输入燃料入口流速(m/s):\"))\n",
    "\n",
    "# 选择d：定当量比，变掺氢比，求对应的空气流速\n",
    "\n",
    "equivalence_ratio = float(input(\"[in]请输入定当量比的值:\"))\n",
    "for i in range(1, computation_numbers + 1):\n",
    "    xh_2 = float(input(\"[in]请输入此次变掺氢比的值(以小数表示):\"))\n",
    "\n",
    "    # air to fuel stoic of ch4 & h2 mixture fuel\n",
    "    # 下面一行的详细说明见OneNote笔记\"掺氢燃烧二维模型尺寸-文章\"\n",
    "    # 主要解决的是由掺氢带来的理论当量比的变化; 对于纯甲烷燃料燃烧; 这是一个定值, 而对于甲烷掺氢混合燃料而言, 该值将随着掺氢比的变化而变化, 即与掺氢比有关, 关系式如下:\n",
    "    air_to_fuel_stoic = 137.25 * (2 - 1.5 * xh_2) / (16 - 14 * xh_2)\n",
    "\n",
    "    # velocity of air supply\n",
    "    velocity_air = (air_to_fuel_stoic / equivalence_ratio) * (\n",
    "                (1 - xh_2) * density_ch4 * velocity_fuel + xh_2 * density_h2 * velocity_fuel) * cross_area_fuel / (\n",
    "                               density_air * cross_area_air)\n",
    "    print(\n",
    "        f\"[output]第{i}组,已知:定当量比={equivalence_ratio}, 变掺氢比={xh_2}; 此时计算的空气流速大小为:{velocity_air:4f}m/s\")\n",
    "\n",
    "print(f\"[over]定当量比={equivalence_ratio}，空气流速计算结束\")\n",
    "\n",
    "# 保持窗口处于待命状态，退出/结束程序需键入回车指令：键入Enter\n",
    "\n",
    "input(\"Press Enter to exit ;)\")"
   ]
  },
  {
   "cell_type": "markdown",
   "metadata": {},
   "source": [
    "计算工况\n",
    "\n",
    "| Fuel inlet velocity(m/s) | equivalence ratio(LBO-1.4) | air inlet velocity(m/s) |  Blockage ratio(0.4-0.8,0.2)    |      |\n",
    "| ------------------------ | -------------------------- | --------------------------- | ---- | ---- |\n",
    "|         10                 |        0.6                    |        12.95       |   |      |\n",
    "|         10                 |        1.0                    |        7.77       |   |      |\n",
    "|         20              |           0.6                 |           25.9                  |      |      |\n",
    "|                          |                            |                             |      |      |\n",
    "|                          |                            |                             |      |      |\n",
    "|                          |                            |                             |      |      |\n",
    "|                          |                            |                             |      |      |"
   ]
  },
  {
   "cell_type": "markdown",
   "metadata": {},
   "source": [
    "## 计算blockage ratio的合适取值及范围以及与L_4的关系"
   ]
  },
  {
   "cell_type": "code",
   "execution_count": 37,
   "metadata": {},
   "outputs": [
    {
     "data": {
      "text/plain": [
       "0.22499999999999998"
      ]
     },
     "execution_count": 37,
     "metadata": {},
     "output_type": "execute_result"
    }
   ],
   "source": [
    "0.35-0.125"
   ]
  },
  {
   "cell_type": "code",
   "execution_count": 19,
   "metadata": {},
   "outputs": [
    {
     "data": {
      "text/plain": [
       "0.125"
      ]
     },
     "execution_count": 19,
     "metadata": {},
     "output_type": "execute_result"
    }
   ],
   "source": [
    "(0.85-0.35)/4"
   ]
  },
  {
   "cell_type": "code",
   "execution_count": 20,
   "metadata": {},
   "outputs": [
    {
     "data": {
      "text/plain": [
       "0.475"
      ]
     },
     "execution_count": 20,
     "metadata": {},
     "output_type": "execute_result"
    }
   ],
   "source": [
    "0.35+0.125"
   ]
  },
  {
   "cell_type": "code",
   "execution_count": 21,
   "metadata": {},
   "outputs": [
    {
     "data": {
      "text/plain": [
       "0.6"
      ]
     },
     "execution_count": 21,
     "metadata": {},
     "output_type": "execute_result"
    }
   ],
   "source": [
    "0.35+0.125*2"
   ]
  },
  {
   "cell_type": "code",
   "execution_count": 22,
   "metadata": {},
   "outputs": [
    {
     "data": {
      "text/plain": [
       "0.725"
      ]
     },
     "execution_count": 22,
     "metadata": {},
     "output_type": "execute_result"
    }
   ],
   "source": [
    "0.35+0.125*3"
   ]
  },
  {
   "cell_type": "code",
   "execution_count": 23,
   "metadata": {},
   "outputs": [
    {
     "data": {
      "text/plain": [
       "0.85"
      ]
     },
     "execution_count": 23,
     "metadata": {},
     "output_type": "execute_result"
    }
   ],
   "source": [
    "0.35+0.125*4"
   ]
  },
  {
   "cell_type": "code",
   "execution_count": 38,
   "metadata": {},
   "outputs": [
    {
     "name": "stdout",
     "output_type": "stream",
     "text": [
      "0.45\n"
     ]
    }
   ],
   "source": [
    "# 已知预设值blockage ratio(BR) = xx，求此时的长度L_4(mm)\n",
    "\n",
    "L_2 = 0.2\n",
    "W_1 = 4.4\n",
    "blockage_ratio = 0.225\n",
    "\n",
    "L_4 = blockage_ratio * (W_1 - 2 * L_2) /2\n",
    "\n",
    "print(L_4)"
   ]
  },
  {
   "cell_type": "markdown",
   "metadata": {},
   "source": [
    "Blockage ratio\n",
    "\n",
    "| BR(预设值) | 对应调整L4长度为(mm)(建模时需减去0.1mm) |\n",
    "| ---------- | --------------------------------------- |\n",
    "| 0.225      | 0.45                                    |\n",
    "| 0.35       | 0.7                                     |\n",
    "| 0.475      | 0.95                                    |\n",
    "| 0.6        | 1.2                                     |\n",
    "| 0.725x     | 1.45x                                   |\n",
    "| 0.85x      | 1.7x                                    |"
   ]
  },
  {
   "cell_type": "markdown",
   "metadata": {},
   "source": [
    "### 计算AR"
   ]
  },
  {
   "cell_type": "code",
   "execution_count": 36,
   "metadata": {},
   "outputs": [
    {
     "data": {
      "text/plain": [
       "80"
      ]
     },
     "execution_count": 36,
     "metadata": {},
     "output_type": "execute_result"
    }
   ],
   "source": [
    "360-280"
   ]
  },
  {
   "cell_type": "markdown",
   "metadata": {},
   "source": [
    "175/1250"
   ]
  },
  {
   "cell_type": "code",
   "execution_count": null,
   "metadata": {},
   "outputs": [],
   "source": [
    "175/1250"
   ]
  },
  {
   "cell_type": "code",
   "execution_count": null,
   "metadata": {},
   "outputs": [],
   "source": []
  }
 ],
 "metadata": {
  "kernelspec": {
   "display_name": "Python 3 (ipykernel)",
   "language": "python",
   "name": "python3"
  },
  "language_info": {
   "codemirror_mode": {
    "name": "ipython",
    "version": 3
   },
   "file_extension": ".py",
   "mimetype": "text/x-python",
   "name": "python",
   "nbconvert_exporter": "python",
   "pygments_lexer": "ipython3",
   "version": "3.11.1"
  }
 },
 "nbformat": 4,
 "nbformat_minor": 1
}
