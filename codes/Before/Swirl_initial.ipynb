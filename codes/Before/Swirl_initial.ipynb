{
 "cells": [
  {
   "cell_type": "markdown",
   "metadata": {},
   "source": [
    "# Import sth"
   ]
  },
  {
   "cell_type": "code",
   "execution_count": 4,
   "metadata": {},
   "outputs": [],
   "source": [
    "import math\n",
    "import matplotlib.pyplot as plt"
   ]
  },
  {
   "cell_type": "markdown",
   "metadata": {},
   "source": [
    "# Boundary condition"
   ]
  },
  {
   "cell_type": "markdown",
   "metadata": {},
   "source": [
    "## Air inlet velocity for "
   ]
  },
  {
   "cell_type": "code",
   "execution_count": 2,
   "metadata": {
    "scrolled": true
   },
   "outputs": [
    {
     "name": "stdout",
     "output_type": "stream",
     "text": [
      "the inlet velocity of air is :0.2201691639611824 m/s\n"
     ]
    }
   ],
   "source": [
    "# to compute the inlet velocity of air\n",
    "diammeter_fuel_inner = 4*1e-3\n",
    "diammeter_fuel_outer = 24*1e-3\n",
    "diammeter_air_inner = 70*1e-3\n",
    "airflow_section_area = 3.14*(diammeter_air_inner**2 - diammeter_fuel_outer**2)/4\n",
    "\n",
    "airflow_volume_speed = 0.000747329\n",
    " #0.00597863\n",
    "\n",
    "airflow_velocity_speed = airflow_volume_speed/airflow_section_area\n",
    "print(f'the inlet velocity of air is :{airflow_velocity_speed} m/s')"
   ]
  },
  {
   "cell_type": "markdown",
   "metadata": {},
   "source": [
    "## Fuel inlet velocity for fluent input"
   ]
  },
  {
   "cell_type": "code",
   "execution_count": 136,
   "metadata": {
    "scrolled": false
   },
   "outputs": [
    {
     "name": "stdout",
     "output_type": "stream",
     "text": [
      "the velocity of fuel is :20.0 m/s\n"
     ]
    }
   ],
   "source": [
    "# to compute the fuel inlet velocity of air\n",
    "\n",
    "fuelflow_section_area = 3.14*diammeter_fuel_inner**2 /4\n",
    "\n",
    "fuelflow_volume_speed = 0.0002512\n",
    "\n",
    "fuelflow_velocity_speed = fuelflow_volume_speed/fuelflow_section_area\n",
    "print(f'the velocity of fuel is :{fuelflow_velocity_speed} m/s')"
   ]
  },
  {
   "cell_type": "markdown",
   "metadata": {},
   "source": [
    "# Swril number (Sn)"
   ]
  },
  {
   "cell_type": "markdown",
   "metadata": {},
   "source": [
    "## Paper validation of swirl number"
   ]
  },
  {
   "cell_type": "markdown",
   "metadata": {},
   "source": [
    "|Swirl type| Diameter (mm) | Vane angel(°) |Vane number|Swirl number|\n",
    "|---|-----|-------|-----------|-----------|\n",
    "| Type 1 | Inner: 13, outer 34.4|45 | 12 | 0.736 |\n",
    "| Type 2 | -|60 | 12 | 1.27 |"
   ]
  },
  {
   "cell_type": "code",
   "execution_count": 57,
   "metadata": {},
   "outputs": [
    {
     "name": "stdout",
     "output_type": "stream",
     "text": [
      "彼时\n",
      "旋流器内、外直径大小为：13、34.4 （mm）；\n",
      "角度及弧度大小为：60 (°)、1.0471975511965976 (rad)\n",
      "旋流数为(Sn): 1.274\n"
     ]
    }
   ],
   "source": [
    "# refer paper: {Hayakawa, 2017 #1003} Formula (1), Table 1 - Swirler specifications\n",
    "\n",
    "# input the diameter and angle of the swirl vane\n",
    "vane_angle = 60 #in angle\n",
    "#angle_in_radian = vane_angle/360*(2*math.pi) # angle in radian\n",
    "vane_angle_in_radian = math.radians(vane_angle) # angle in radian\n",
    "number_of_vane = 6 # 叶片数（并不参与计算）\n",
    "diameter_of_inner = 13 # d_h, the hub diameter in mm\n",
    "diameter_of_outer = 34.4 # d_t, the swirl tip diameter in mm\n",
    "d_ratio = diameter_of_inner/diameter_of_outer\n",
    "\n",
    "# formula\n",
    "swirl_number = (2/3)*((1-d_ratio**3)/(1-d_ratio**2))*math.tan(vane_angle_in_radian)\n",
    "swirl_number_round = round(swirl_number,3) # Round a number to only three decimals\n",
    "\n",
    "# output\n",
    "print(f\"彼时\\n旋流器内、外直径大小为：{diameter_of_inner}、{diameter_of_outer} （mm）；\\n角度及弧度大小为：{vane_angle} (°)、{vane_angle_in_radian} (rad)\\n旋流数为(Sn): {swirl_number_round}\")"
   ]
  },
  {
   "cell_type": "code",
   "execution_count": 46,
   "metadata": {},
   "outputs": [
    {
     "name": "stdout",
     "output_type": "stream",
     "text": [
      "0.785\n",
      "0.7853981633974483\n"
     ]
    }
   ],
   "source": [
    "# 角度转换弧度\n",
    "a = 45 # 角度\n",
    "in_radians = 45/360*2*3.14\n",
    "print(in_radians)\n",
    "print(math.radians(45))"
   ]
  },
  {
   "cell_type": "markdown",
   "metadata": {},
   "source": [
    "甲烷掺氢旋流钝体之——旋流结构参数\n",
    "|Swirl type| Diameter (mm) | Vane angel(°) |Vane number|Swirl number|\n",
    "|---|-----|-------|-----------|-----------|\n",
    "| Swirl 1 | inner: 25, outer: 70 |30 | 6 | xxx |\n",
    "| Swirl 2 | - | 45 | 6 | xxx |\n",
    "| Swirl 3 | - | 60 | 6 | xxx |"
   ]
  },
  {
   "cell_type": "code",
   "execution_count": 58,
   "metadata": {},
   "outputs": [
    {
     "name": "stdout",
     "output_type": "stream",
     "text": [
      "彼时\n",
      "旋流器内、外直径大小为：25、70 （mm）；\n",
      "角度及弧度大小为：60 (°)、1.0471975511965976 (rad)\n",
      "计算旋流数大小为(Sn): 1.263\n"
     ]
    }
   ],
   "source": [
    "# 暂定: 旋流器结构高度为20mm\n",
    "\n",
    "# input the diameter and angle of the swirl vane\n",
    "vane_angle = 75 #in angle\n",
    "#angle_in_radian = vane_angle/360*(2*math.pi) # angle in radian\n",
    "vane_angle_in_radian = math.radians(vane_angle) # angle in radian\n",
    "number_of_vane = 6 # 叶片数（并不参与计算）\n",
    "diameter_of_inner = 25 # d_h, the hub diameter in mm\n",
    "diameter_of_outer = 70 # d_t, the swirl tip diameter in mm\n",
    "d_ratio = diameter_of_inner/diameter_of_outer\n",
    "\n",
    "# formula\n",
    "swirl_number = (2/3)*((1-d_ratio**3)/(1-d_ratio**2))*math.tan(vane_angle_in_radian)\n",
    "swirl_number_round = round(swirl_number,3) # Round a number to only three decimals\n",
    "\n",
    "# output\n",
    "print(f\"彼时\\n旋流器内、外直径大小为：{diameter_of_inner}、{diameter_of_outer} （mm）；\\n角度及弧度大小为：{vane_angle} (°)、{vane_angle_in_radian} (rad)\\n计算旋流数大小为(Sn): {swirl_number_round}\")"
   ]
  },
  {
   "cell_type": "markdown",
   "metadata": {},
   "source": [
    "|Swirl type| Diameter (mm) | Vane angel(°) |Vane number|Swirl number|\n",
    "|---|-----|-------|-----------|-----------|\n",
    "| Swirl 1 | inner: 25, outer: 70 |30 | 6 | 0.421 |\n",
    "| Swirl 2 | - | 45 | 6 | 0.729 |\n",
    "| Swirl 3 | - | 60 | 6 | 1.263 |\n",
    "| Swirl 4 | - | 75 | 6 | 2.722 |"
   ]
  },
  {
   "cell_type": "markdown",
   "metadata": {},
   "source": [
    "甲烷掺氢旋流钝体之——钝体结构参数（待完善-2023.04.19）\n",
    "| Bluff body(BB) type | Height (mm) | BB angel(°) | Vane number | Swirl number |\n",
    "|---|-----|-------|-----------|-----------|\n",
    "| BB 1 | inner: 25, outer: 70 |30 | 6 | xxx |\n",
    "| BB 2 | - | 45 | 6 | xxx |\n",
    "| BB 3 | - | 60 | 6 | xxx |"
   ]
  },
  {
   "cell_type": "markdown",
   "metadata": {},
   "source": [
    "## 求旋流叶片角度theta"
   ]
  },
  {
   "cell_type": "markdown",
   "metadata": {},
   "source": [
    "### 计算旋流数Sn\n",
    "\n",
    "确定swirl vane结构参数\n",
    "\n",
    "- 变量\n",
    "    - 旋流叶片数量（并不影响旋流数Sn）\n",
    "    - 旋流角度\n",
    "    - 旋流数Sn\n",
    "\n",
    "$$\n",
    "Sn=\\frac{2}{3}\\left[ \\frac{1-\\left( D_i/D_o \\right) ^3}{1-\\left( D_i/D_o \\right) ^2} \\right] \\tan \\theta\n",
    "$$\n",
    "\n",
    "\n",
    "\n",
    "建模思路：\n",
    "-  为计算旋流数Sn，需根据底部的直角边d_mid以及二分之一的螺距pitch，近似形成一个直角三角形，通过反正切三角函数，可以计算$\\theta$角度；\n",
    "$$\n",
    "tan(\\theta)=\\frac{0.5Pitch}{D_{mid}}\n",
    "$$\n",
    "-  在底部的直角边$D_{mid}$确定的情况下，$\\theta$角度及对应的$tan(\\theta)$的值由螺距pitch所决定；\n",
    "-  已知$tan(\\theta)$的值，可以求得对应$\\theta$下的pitch值（建模依据）\n",
    "-  通过$\\theta$角度代入旋流数Sn计算公式，计算得到所建3D模型的旋流数Sn；\n",
    "    - A: 给定某一$\\theta$角度（用于旋流叶片建模），求得对应的Sn\n",
    "        -  建模：通过$\\theta$以及正切函数$tan(\\theta)$，计算得到对应的pitch值，用于旋流叶片建模；\n",
    "        -  计算Sn：将$\\theta$直接代入旋流数Sn计算公式\n",
    "    - B: 给定对应的Sn，求对应的$\\theta$角度（用于旋流叶片建模）\n",
    "        -  建模：通过对应的Sn，求得$tan(\\theta)$中的$\\theta$值，"
   ]
  },
  {
   "cell_type": "code",
   "execution_count": 87,
   "metadata": {},
   "outputs": [
    {
     "name": "stdout",
     "output_type": "stream",
     "text": [
      "旋流叶片角度为65°，对应角的正切值为2.14，对应的Pitch值为20.98，对应的Sn值为1.67\n"
     ]
    }
   ],
   "source": [
    "# A: 给定某一theta角度（用于旋流叶片建模），求得对应的Sn\n",
    "# 情景：计算theta角度分别为60°，70°，80°条件下的Sn，此时：\n",
    "# 1.根据tan(theta)公式可求出pitch的大小用于建模\n",
    "# 2.代入Sn公式求得Sn的值\n",
    "\n",
    "# ----\n",
    "# 空气流道内直径(d_h, the hub diameter)(uinit: mm)\n",
    "diameter_of_inner = 15\n",
    "# 空气流道外直径(d_t, the swirl tip diameter)(uinit: mm)\n",
    "diameter_of_outer = 30\n",
    "d_ratio = diameter_of_inner/diameter_of_outer\n",
    "# 计算已知的diameter_mid（底部的直角边）\n",
    "diameter_mid = 0.5*(diameter_of_inner + diameter_of_outer)\n",
    "# ----\n",
    "# 需要确定的pitch（螺距高度：形成一圈螺纹需要多长的距离）(uinit: mm)\n",
    "\n",
    "# 输入变量\n",
    "# 🟢已知角度theta（旋流叶片的角度为vane angle；theta是为直角三角形中的标记）\n",
    "\n",
    "theta_in_degree = 65  # 角度（单位为度）\n",
    "# 将角度转换为弧度\n",
    "theta_in_radian = math.radians(theta_in_degree)\n",
    "\n",
    "# 计算对应角的正切值\n",
    "tan_value = math.tan(theta_in_radian)\n",
    "# 确定的pitch值，作为inventor旋流叶片coil命令下的键入值\n",
    "pitch =  2 * diameter_mid / tan_value\n",
    "\n",
    "# 计算旋流数Sn\n",
    "swirl_number = (2/3)*((1-d_ratio**3)/(1-d_ratio**2))*tan_value\n",
    "\n",
    "# 输出结果，Pitch值和旋流数Sn\n",
    "print(\"旋流叶片角度为{}°，对应角的正切值为{:.2f}，对应的Pitch值为{:.2f}，对应的Sn值为{:.2f}\".format(theta_in_degree, tan_value, pitch, swirl_number))"
   ]
  },
  {
   "cell_type": "markdown",
   "metadata": {},
   "source": [
    "  ## A的计算结果汇总\n",
    "  \n",
    "  | 结构1   | 叶片数n | 旋转叶片的角度$\\theta$ | 旋流数Sn | Pitch (unit:mm)|\n",
    "  | ------- | ------- | --------------- | -------- |-------- |\n",
    "  | Swirl theta 1 | 5       | 30°     |   0.45   | 77.94 |\n",
    "  | Swirl theta 2 | 5       | 35°     |   0.54   | 64.27 |\n",
    "  | Swirl theta 3 | 5       | 40°     |   0.65   | 53.63 |\n",
    "  | ✓Swirl theta 4 | 5       | 45°     |   0.78   | 45   |\n",
    "  | Swirl theta 5 | 5       | 50°     |   0.93   | 37.76 |\n",
    "  | ✓ Swirl theta 6 | 5       | 55°     |   1.11   | 31.51 |\n",
    "  | Swirl theta 7 | 5       | 60°     |   1.35   | 25.98 |\n",
    "  | ✓ Swirl theta 8 | 5       | 65°     |   1.67   | 20.98 |\n",
    "  | Swirl theta 9 | 5       | 75°     |   2.9    | 12.06 |\n",
    "  | Swirl Sn 1   | -       |    -        | 0.6    | - |\n",
    "  | Swirl Sn 1   | -       |    -        | 0.7    | - |\n",
    "  | Swirl Sn 1   | -       |    -        | 0.9    | - |"
   ]
  },
  {
   "cell_type": "code",
   "execution_count": 88,
   "metadata": {},
   "outputs": [],
   "source": [
    "# B: 给定对应的Sn，求对应的$\\theta$角度（用于旋流叶片建模）\n",
    "# 情景：建模Sn分别为0.4，0.6，0.8条件下的3D旋流叶片，此时：\n",
    "# 1.根据tan(theta)公式可求出pitch的大小用于建模\n",
    "# 2.已知Sn的值"
   ]
  },
  {
   "cell_type": "markdown",
   "metadata": {},
   "source": [
    "## Re计算\n"
   ]
  },
  {
   "cell_type": "code",
   "execution_count": 1,
   "metadata": {},
   "outputs": [
    {
     "name": "stdout",
     "output_type": "stream",
     "text": [
      "Hello world!\n"
     ]
    }
   ],
   "source": [
    "print(\"Hello world!\")"
   ]
  },
  {
   "cell_type": "code",
   "execution_count": null,
   "metadata": {},
   "outputs": [],
   "source": []
  }
 ],
 "metadata": {
  "celltoolbar": "原始单元格格式",
  "kernelspec": {
   "display_name": "Python 3 (ipykernel)",
   "language": "python",
   "name": "python3"
  },
  "language_info": {
   "codemirror_mode": {
    "name": "ipython",
    "version": 3
   },
   "file_extension": ".py",
   "mimetype": "text/x-python",
   "name": "python",
   "nbconvert_exporter": "python",
   "pygments_lexer": "ipython3",
   "version": "3.11.1"
  }
 },
 "nbformat": 4,
 "nbformat_minor": 1
}
